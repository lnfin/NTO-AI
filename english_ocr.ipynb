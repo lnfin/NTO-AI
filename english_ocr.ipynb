{
 "cells": [
  {
   "cell_type": "code",
   "execution_count": 2,
   "metadata": {
    "colab": {
     "base_uri": "https://localhost:8080/",
     "height": 473
    },
    "id": "xbLgIHJDZCf9",
    "outputId": "a8dd1607-4c6f-45ef-cd35-e104c1b36834"
   },
   "outputs": [],
   "source": [
    "from tqdm import tqdm\n",
    "import os\n",
    "import time\n",
    "import torch\n",
    "import numpy as np\n",
    "import json\n",
    "import cv2\n",
    "import random\n",
    "!pip install wandb -q\n",
    "import wandb\n",
    "\n",
    "from ocr.utils import (\n",
    "    val_loop, load_pretrain_model, FilesLimitControl, AverageMeter, sec2min\n",
    ")\n",
    "\n",
    "from ocr.dataset import get_data_loader\n",
    "from ocr.transforms import get_train_transforms, get_val_transforms\n",
    "from ocr.tokenizer import Tokenizer\n",
    "from ocr.config import Config\n",
    "from ocr.models import CRNN\n",
    "import warnings\n",
    "warnings.filterwarnings('ignore')\n",
    "\n",
    "seed = 0xC0FFEE\n",
    "random.seed(seed)\n",
    "os.environ['PYTHONHASHSEED'] = str(seed)\n",
    "np.random.seed(seed)\n",
    "torch.manual_seed(seed)\n",
    "torch.cuda.manual_seed(seed)\n",
    "torch.backends.cudnn.deterministic = True\n",
    "torch.backends.cudnn.benchmark = True\n",
    "\n",
    "DEVICE = torch.device('cuda' if torch.cuda.is_available() else 'cpu')"
   ]
  },
  {
   "cell_type": "code",
   "execution_count": 3,
   "metadata": {
    "id": "Of964c7Eb67E"
   },
   "outputs": [],
   "source": [
    "def train_loop(data_loader, model, criterion, optimizer, epoch, scheduler):\n",
    "    loss_avg = AverageMeter()\n",
    "    strat_time = time.time()\n",
    "    model.train()\n",
    "    tqdm_data_loader = tqdm(data_loader, total=len(data_loader), leave=False)\n",
    "    for images, texts, enc_pad_texts, text_lens in tqdm_data_loader:\n",
    "        model.zero_grad()\n",
    "        images = images.to(DEVICE)\n",
    "        batch_size = len(texts)\n",
    "        output = model(images)\n",
    "        output_lenghts = torch.full(\n",
    "            size=(output.size(1),),\n",
    "            fill_value=output.size(0),\n",
    "            dtype=torch.long\n",
    "        )\n",
    "        loss = criterion(output, enc_pad_texts, output_lenghts, text_lens)\n",
    "        loss_avg.update(loss.item(), batch_size)\n",
    "        loss.backward()\n",
    "        torch.nn.utils.clip_grad_norm_(model.parameters(), 2)\n",
    "        optimizer.step()\n",
    "        scheduler.step()\n",
    "    loop_time = sec2min(time.time() - strat_time)\n",
    "    for param_group in optimizer.param_groups:\n",
    "        lr = param_group['lr']\n",
    "    train_stats = {\n",
    "        'loss': loss_avg.avg,\n",
    "        'lr': lr,\n",
    "    }\n",
    "    print(f'\\nEpoch {epoch}, Loss: {loss_avg.avg:.5f}, '\n",
    "          f'LR: {lr:.7f}, loop_time: {loop_time}')\n",
    "    return train_stats\n",
    "\n",
    "\n",
    "def get_loaders(tokenizer, config):\n",
    "    train_transforms = get_train_transforms(\n",
    "        height=config.get_image('height'),\n",
    "        width=config.get_image('width'),\n",
    "        prob=0.2\n",
    "    )\n",
    "    train_loader = get_data_loader(\n",
    "        transforms=train_transforms,\n",
    "        csv_paths=config.get_train_datasets('csv_path'),\n",
    "        tokenizer=tokenizer,\n",
    "        dataset_probs=config.get_train_datasets('prob'),\n",
    "        epoch_size=config.get_train('epoch_size'),\n",
    "        batch_size=config.get_train('batch_size'),\n",
    "        drop_last=True\n",
    "    )\n",
    "    val_transforms = get_val_transforms(\n",
    "        height=config.get_image('height'),\n",
    "        width=config.get_image('width')\n",
    "    )\n",
    "    val_loader = get_data_loader(\n",
    "        transforms=val_transforms,\n",
    "        csv_paths=config.get_val_datasets('csv_path'),\n",
    "        tokenizer=tokenizer,\n",
    "        dataset_probs=config.get_val_datasets('prob'),\n",
    "        epoch_size=config.get_val('epoch_size'),\n",
    "        batch_size=config.get_val('batch_size'),\n",
    "        drop_last=False\n",
    "    )\n",
    "    return train_loader, val_loader"
   ]
  },
  {
   "cell_type": "code",
   "execution_count": 4,
   "metadata": {
    "id": "EZETxUMhmmhV"
   },
   "outputs": [],
   "source": [
    "def split_data(data_dict):\n",
    "    data = [(k, v) for k, v in data_dict.items()]\n",
    "    random.Random(seed).shuffle(data)\n",
    "    print('train len', len(data))\n",
    "\n",
    "    split_coef = 0.75\n",
    "    train_len = int(len(data)*split_coef)\n",
    "\n",
    "    train_splitted = data[:train_len]\n",
    "    val_splitted = data[train_len:]\n",
    "\n",
    "    print('train len after split', len(train_splitted))\n",
    "    print('val len after split', len(val_splitted))\n",
    "    return train_splitted, val_splitted"
   ]
  },
  {
   "cell_type": "code",
   "execution_count": 5,
   "metadata": {
    "colab": {
     "base_uri": "https://localhost:8080/",
     "height": 330
    },
    "id": "k_Tv2r0tnece",
    "outputId": "ecc7949a-1581-45fd-b3e9-d48f217d7363"
   },
   "outputs": [
    {
     "name": "stdout",
     "output_type": "stream",
     "text": [
      "train len 14862\n",
      "train len after split 11146\n",
      "val len after split 3716\n"
     ]
    }
   ],
   "source": [
    "import pandas as pd\n",
    "import re\n",
    "\n",
    "labels = pd.read_csv('datasets/data/labels.csv')\n",
    "\n",
    "nto_data = {}\n",
    "for idx, values in labels.iterrows():\n",
    "    if re.search('[a-zA-Z]', values.text):\n",
    "        nto_data[os.path.join('datasets/data/images', values.file_name)] = values.text\n",
    "nto_train, nto_val = split_data(nto_data)"
   ]
  },
  {
   "cell_type": "code",
   "execution_count": 6,
   "metadata": {
    "id": "ZJWEZEvriUy-"
   },
   "outputs": [
    {
     "name": "stdout",
     "output_type": "stream",
     "text": [
      "train len 113208\n",
      "train len after split 84906\n",
      "val len after split 28302\n"
     ]
    }
   ],
   "source": [
    "r = [x.strip() for x in open('datasets/ascii/words.txt', 'r')]\n",
    "\n",
    "iam_data = {}\n",
    "for i in range(18, len(r)):\n",
    "    el = r[i].split()\n",
    "    if 'r06' in el[0] or 'a01-117-05-02' in el[0]:\n",
    "        continue\n",
    "        \n",
    "    file_name = os.path.join('datasets/iam', el[0] + '.png')\n",
    "    label = el[-1]\n",
    "    iam_data[file_name] = label\n",
    "iam_train, iam_val = split_data(iam_data)"
   ]
  },
  {
   "cell_type": "code",
   "execution_count": 7,
   "metadata": {},
   "outputs": [
    {
     "name": "stderr",
     "output_type": "stream",
     "text": [
      "687it [01:19,  8.64it/s]"
     ]
    },
    {
     "name": "stdout",
     "output_type": "stream",
     "text": [
      "train len 40777\n",
      "train len after split 30582\n",
      "val len after split 10195\n"
     ]
    },
    {
     "name": "stderr",
     "output_type": "stream",
     "text": [
      "\n"
     ]
    }
   ],
   "source": [
    "labels = sorted([x for x in os.listdir('datasets/gnhk') if x.endswith('.json')])\n",
    "images = sorted([x for x in os.listdir('datasets/gnhk') if x.endswith('.jpg')])\n",
    "import matplotlib.pyplot as plt\n",
    "\n",
    "gnhk_data = {}\n",
    "for label, image_name in tqdm(zip(labels, images)):\n",
    "    annos = json.load(open('datasets/gnhk/' + label))\n",
    "    image = cv2.imread('datasets/gnhk/' + image_name)\n",
    "    for idx, anno in enumerate(annos):\n",
    "        clip_name = image_name.split('.')[0] + '_' + str(idx) + '.jpg'\n",
    "        if '%' in anno['text']:\n",
    "            continue\n",
    "        gnhk_data['datasets/gnhk/clips/' + clip_name] = anno['text']\n",
    "#         coord = list(anno['polygon'].values())\n",
    "#         xs = []\n",
    "#         ys = []\n",
    "#         for i in range(0, len(coord), 2):\n",
    "#             xs.append(coord[i])\n",
    "#             ys.append(coord[i+1])\n",
    "#         cv2.imwrite('datasets/gnhk/clips/' + clip_name, image[min(ys):max(ys), min(xs):max(xs), :])\n",
    "gnhk_train, gnhk_val = split_data(gnhk_data)"
   ]
  },
  {
   "cell_type": "code",
   "execution_count": 8,
   "metadata": {
    "id": "TOtZ4Y2S3xKF",
    "scrolled": true
   },
   "outputs": [
    {
     "name": "stdout",
     "output_type": "stream",
     "text": [
      "train len after split 126634\n",
      "val len after split 42213\n",
      "data len  168847\n"
     ]
    }
   ],
   "source": [
    "train_data_splitted = []\n",
    "train_data_splitted += iam_train\n",
    "train_data_splitted += nto_train\n",
    "train_data_splitted += gnhk_train\n",
    "random.Random(seed).shuffle(train_data_splitted)\n",
    "val_data_splitted = []\n",
    "val_data_splitted += iam_val\n",
    "val_data_splitted += nto_val\n",
    "val_data_splitted += gnhk_val\n",
    "random.Random(seed).shuffle(val_data_splitted)\n",
    "\n",
    "print('train len after split', len(train_data_splitted))\n",
    "print('val len after split', len(val_data_splitted))\n",
    "\n",
    "import csv\n",
    "with open('train.csv', 'w') as csvfile:\n",
    "    w = csv.writer(csvfile)\n",
    "    w.writerow(['filename', 'text'])\n",
    "    for name, text in train_data_splitted:\n",
    "        w.writerow([name, text])\n",
    "\n",
    "        \n",
    "with open('val.csv', 'w') as csvfile:\n",
    "    w = csv.writer(csvfile)\n",
    "    w.writerow(['filename', 'text'])\n",
    "    for name, text in val_data_splitted:\n",
    "        w.writerow([name, text])\n",
    "            \n",
    "print('data len ', len(train_data_splitted + val_data_splitted))"
   ]
  },
  {
   "cell_type": "code",
   "execution_count": 9,
   "metadata": {
    "id": "IFFGQjK49F9N"
   },
   "outputs": [],
   "source": [
    "with open('scripts/owr_config.json') as f:\n",
    "    cfg = json.load(f) \n",
    "# run = wandb.init(project=\"Task\", entity=\"nto\", name='crnn_hkr40', config=cfg, reinit=True)"
   ]
  },
  {
   "cell_type": "code",
   "execution_count": 10,
   "metadata": {
    "id": "TAS_0lp79HIv",
    "scrolled": false
   },
   "outputs": [
    {
     "name": "stderr",
     "output_type": "stream",
     "text": [
      "                                                 \r"
     ]
    },
    {
     "name": "stdout",
     "output_type": "stream",
     "text": [
      "\n",
      "Epoch 0, Loss: 58.03403, LR: 0.0000662, loop_time: 18m 31s\n"
     ]
    },
    {
     "name": "stderr",
     "output_type": "stream",
     "text": [
      "                                                 \r"
     ]
    },
    {
     "name": "stdout",
     "output_type": "stream",
     "text": [
      "Validation, cer: 0.9039, acc: 0.0727, wer: 0.9273, loss: 3.2208, loop_time: 4m 4s\n",
      "Model weights saved\n"
     ]
    },
    {
     "name": "stderr",
     "output_type": "stream",
     "text": [
      "                                                 \r"
     ]
    },
    {
     "name": "stdout",
     "output_type": "stream",
     "text": [
      "\n",
      "Epoch 1, Loss: 2.69413, LR: 0.0001881, loop_time: 18m 24s\n"
     ]
    },
    {
     "name": "stderr",
     "output_type": "stream",
     "text": [
      "                                                 \r"
     ]
    },
    {
     "name": "stdout",
     "output_type": "stream",
     "text": [
      "Validation, cer: 0.7719, acc: 0.1609, wer: 0.8391, loss: 2.0439, loop_time: 4m 4s\n",
      "Model weights saved\n"
     ]
    },
    {
     "name": "stderr",
     "output_type": "stream",
     "text": [
      "                                                 \r"
     ]
    },
    {
     "name": "stdout",
     "output_type": "stream",
     "text": [
      "\n",
      "Epoch 2, Loss: 1.44185, LR: 0.0002858, loop_time: 18m 22s\n"
     ]
    },
    {
     "name": "stderr",
     "output_type": "stream",
     "text": [
      "                                                 \r"
     ]
    },
    {
     "name": "stdout",
     "output_type": "stream",
     "text": [
      "Validation, cer: 0.3015, acc: 0.4029, wer: 0.5972, loss: 1.1986, loop_time: 4m 1s\n",
      "Model weights saved\n"
     ]
    },
    {
     "name": "stderr",
     "output_type": "stream",
     "text": [
      "                                                 \r"
     ]
    },
    {
     "name": "stdout",
     "output_type": "stream",
     "text": [
      "Validation, cer: 0.2597, acc: 0.4586, wer: 0.5415, loss: 0.9856, loop_time: 4m 3s\n",
      "Model weights saved\n"
     ]
    },
    {
     "name": "stderr",
     "output_type": "stream",
     "text": [
      "                                                 \r"
     ]
    },
    {
     "name": "stdout",
     "output_type": "stream",
     "text": [
      "\n",
      "Epoch 4, Loss: 0.79304, LR: 0.0002983, loop_time: 18m 28s\n"
     ]
    },
    {
     "name": "stderr",
     "output_type": "stream",
     "text": [
      "                                                 \r"
     ]
    },
    {
     "name": "stdout",
     "output_type": "stream",
     "text": [
      "Validation, cer: 0.1929, acc: 0.5603, wer: 0.4397, loss: 0.7402, loop_time: 4m 2s\n",
      "Model weights saved\n"
     ]
    },
    {
     "name": "stderr",
     "output_type": "stream",
     "text": [
      "                                                 \r"
     ]
    },
    {
     "name": "stdout",
     "output_type": "stream",
     "text": [
      "\n",
      "Epoch 5, Loss: 0.68476, LR: 0.0002954, loop_time: 18m 28s\n"
     ]
    },
    {
     "name": "stderr",
     "output_type": "stream",
     "text": [
      "                                                 \r"
     ]
    },
    {
     "name": "stdout",
     "output_type": "stream",
     "text": [
      "Validation, cer: 0.1680, acc: 0.6039, wer: 0.3961, loss: 0.6480, loop_time: 4m 3s\n",
      "Model weights saved\n"
     ]
    },
    {
     "name": "stderr",
     "output_type": "stream",
     "text": [
      "                                                 \r"
     ]
    },
    {
     "name": "stdout",
     "output_type": "stream",
     "text": [
      "\n",
      "Epoch 6, Loss: 0.61193, LR: 0.0002909, loop_time: 18m 27s\n"
     ]
    },
    {
     "name": "stderr",
     "output_type": "stream",
     "text": [
      "                                                 \r"
     ]
    },
    {
     "name": "stdout",
     "output_type": "stream",
     "text": [
      "Validation, cer: 0.1537, acc: 0.6340, wer: 0.3660, loss: 0.5852, loop_time: 4m 4s\n",
      "Model weights saved\n"
     ]
    },
    {
     "name": "stderr",
     "output_type": "stream",
     "text": [
      "                                                 \r"
     ]
    },
    {
     "name": "stdout",
     "output_type": "stream",
     "text": [
      "\n",
      "Epoch 7, Loss: 0.56454, LR: 0.0002851, loop_time: 18m 27s\n"
     ]
    },
    {
     "name": "stderr",
     "output_type": "stream",
     "text": [
      "                                                 \r"
     ]
    },
    {
     "name": "stdout",
     "output_type": "stream",
     "text": [
      "Validation, cer: 0.2089, acc: 0.5512, wer: 0.4489, loss: 0.7819, loop_time: 4m 0s\n"
     ]
    },
    {
     "name": "stderr",
     "output_type": "stream",
     "text": [
      "                                                 \r"
     ]
    },
    {
     "name": "stdout",
     "output_type": "stream",
     "text": [
      "\n",
      "Epoch 8, Loss: 0.52564, LR: 0.0002780, loop_time: 18m 21s\n"
     ]
    },
    {
     "name": "stderr",
     "output_type": "stream",
     "text": [
      "                                                 \r"
     ]
    },
    {
     "name": "stdout",
     "output_type": "stream",
     "text": [
      "Validation, cer: 0.2124, acc: 0.5535, wer: 0.4465, loss: 0.8571, loop_time: 4m 1s\n"
     ]
    },
    {
     "name": "stderr",
     "output_type": "stream",
     "text": [
      "                                                 \r"
     ]
    },
    {
     "name": "stdout",
     "output_type": "stream",
     "text": [
      "\n",
      "Epoch 9, Loss: 0.48384, LR: 0.0002696, loop_time: 18m 21s\n"
     ]
    },
    {
     "name": "stderr",
     "output_type": "stream",
     "text": [
      "                                                 \r"
     ]
    },
    {
     "name": "stdout",
     "output_type": "stream",
     "text": [
      "Validation, cer: 0.1278, acc: 0.6817, wer: 0.3184, loss: 0.5074, loop_time: 4m 2s\n",
      "Model weights saved\n"
     ]
    },
    {
     "name": "stderr",
     "output_type": "stream",
     "text": [
      "                                                 \r"
     ]
    },
    {
     "name": "stdout",
     "output_type": "stream",
     "text": [
      "\n",
      "Epoch 10, Loss: 0.45811, LR: 0.0002599, loop_time: 18m 24s\n"
     ]
    },
    {
     "name": "stderr",
     "output_type": "stream",
     "text": [
      "                                                 \r"
     ]
    },
    {
     "name": "stdout",
     "output_type": "stream",
     "text": [
      "Validation, cer: 0.1279, acc: 0.6822, wer: 0.3179, loss: 0.4975, loop_time: 4m 2s\n"
     ]
    },
    {
     "name": "stderr",
     "output_type": "stream",
     "text": [
      "                                                 \r"
     ]
    },
    {
     "name": "stdout",
     "output_type": "stream",
     "text": [
      "\n",
      "Epoch 11, Loss: 0.44038, LR: 0.0002492, loop_time: 18m 23s\n"
     ]
    },
    {
     "name": "stderr",
     "output_type": "stream",
     "text": [
      "                                                 \r"
     ]
    },
    {
     "name": "stdout",
     "output_type": "stream",
     "text": [
      "Validation, cer: 0.1137, acc: 0.7094, wer: 0.2907, loss: 0.4485, loop_time: 4m 1s\n",
      "Model weights saved\n"
     ]
    },
    {
     "name": "stderr",
     "output_type": "stream",
     "text": [
      "                                                 \r"
     ]
    },
    {
     "name": "stdout",
     "output_type": "stream",
     "text": [
      "\n",
      "Epoch 12, Loss: 0.41272, LR: 0.0002375, loop_time: 18m 22s\n"
     ]
    },
    {
     "name": "stderr",
     "output_type": "stream",
     "text": [
      "                                                 \r"
     ]
    },
    {
     "name": "stdout",
     "output_type": "stream",
     "text": [
      "Validation, cer: 0.1089, acc: 0.7194, wer: 0.2807, loss: 0.4288, loop_time: 4m 1s\n",
      "Model weights saved\n"
     ]
    },
    {
     "name": "stderr",
     "output_type": "stream",
     "text": [
      "                                                 \r"
     ]
    },
    {
     "name": "stdout",
     "output_type": "stream",
     "text": [
      "\n",
      "Epoch 13, Loss: 0.39048, LR: 0.0002250, loop_time: 18m 22s\n"
     ]
    },
    {
     "name": "stderr",
     "output_type": "stream",
     "text": [
      "                                                 \r"
     ]
    },
    {
     "name": "stdout",
     "output_type": "stream",
     "text": [
      "Validation, cer: 0.1096, acc: 0.7246, wer: 0.2755, loss: 0.4221, loop_time: 4m 1s\n"
     ]
    },
    {
     "name": "stderr",
     "output_type": "stream",
     "text": [
      "                                                 \r"
     ]
    },
    {
     "name": "stdout",
     "output_type": "stream",
     "text": [
      "\n",
      "Epoch 14, Loss: 0.36807, LR: 0.0002117, loop_time: 18m 22s\n"
     ]
    },
    {
     "name": "stderr",
     "output_type": "stream",
     "text": [
      "                                                 \r"
     ]
    },
    {
     "name": "stdout",
     "output_type": "stream",
     "text": [
      "Validation, cer: 0.1040, acc: 0.7322, wer: 0.2679, loss: 0.4092, loop_time: 4m 0s\n",
      "Model weights saved\n"
     ]
    },
    {
     "name": "stderr",
     "output_type": "stream",
     "text": [
      "                                                 \r"
     ]
    },
    {
     "name": "stdout",
     "output_type": "stream",
     "text": [
      "\n",
      "Epoch 15, Loss: 0.34493, LR: 0.0001978, loop_time: 18m 24s\n"
     ]
    },
    {
     "name": "stderr",
     "output_type": "stream",
     "text": [
      "                                                 \r"
     ]
    },
    {
     "name": "stdout",
     "output_type": "stream",
     "text": [
      "Validation, cer: 0.1039, acc: 0.7329, wer: 0.2671, loss: 0.4157, loop_time: 4m 1s\n",
      "Model weights saved\n"
     ]
    },
    {
     "name": "stderr",
     "output_type": "stream",
     "text": [
      "                                                 \r"
     ]
    },
    {
     "name": "stdout",
     "output_type": "stream",
     "text": [
      "\n",
      "Epoch 16, Loss: 0.32763, LR: 0.0001834, loop_time: 18m 24s\n"
     ]
    },
    {
     "name": "stderr",
     "output_type": "stream",
     "text": [
      "                                                 \r"
     ]
    },
    {
     "name": "stdout",
     "output_type": "stream",
     "text": [
      "Validation, cer: 0.1010, acc: 0.7401, wer: 0.2600, loss: 0.4021, loop_time: 4m 5s\n",
      "Model weights saved\n"
     ]
    },
    {
     "name": "stderr",
     "output_type": "stream",
     "text": [
      "                                                 \r"
     ]
    },
    {
     "name": "stdout",
     "output_type": "stream",
     "text": [
      "\n",
      "Epoch 17, Loss: 0.31069, LR: 0.0001686, loop_time: 18m 26s\n"
     ]
    },
    {
     "name": "stderr",
     "output_type": "stream",
     "text": [
      "                                                 \r"
     ]
    },
    {
     "name": "stdout",
     "output_type": "stream",
     "text": [
      "Validation, cer: 0.0964, acc: 0.7505, wer: 0.2496, loss: 0.3852, loop_time: 4m 4s\n",
      "Model weights saved\n"
     ]
    },
    {
     "name": "stderr",
     "output_type": "stream",
     "text": [
      "                                                 \r"
     ]
    },
    {
     "name": "stdout",
     "output_type": "stream",
     "text": [
      "\n",
      "Epoch 18, Loss: 0.29299, LR: 0.0001537, loop_time: 18m 26s\n"
     ]
    },
    {
     "name": "stderr",
     "output_type": "stream",
     "text": [
      "                                                 \r"
     ]
    },
    {
     "name": "stdout",
     "output_type": "stream",
     "text": [
      "Validation, cer: 0.0917, acc: 0.7599, wer: 0.2402, loss: 0.3722, loop_time: 4m 5s\n",
      "Model weights saved\n"
     ]
    },
    {
     "name": "stderr",
     "output_type": "stream",
     "text": [
      "                                                 \r"
     ]
    },
    {
     "name": "stdout",
     "output_type": "stream",
     "text": [
      "\n",
      "Epoch 19, Loss: 0.27182, LR: 0.0001388, loop_time: 18m 19s\n"
     ]
    },
    {
     "name": "stderr",
     "output_type": "stream",
     "text": [
      "                                                 \r"
     ]
    },
    {
     "name": "stdout",
     "output_type": "stream",
     "text": [
      "Validation, cer: 0.0907, acc: 0.7625, wer: 0.2376, loss: 0.3810, loop_time: 3m 55s\n",
      "Model weights saved\n"
     ]
    },
    {
     "name": "stderr",
     "output_type": "stream",
     "text": [
      "                                                 \r"
     ]
    },
    {
     "name": "stdout",
     "output_type": "stream",
     "text": [
      "\n",
      "Epoch 20, Loss: 0.25873, LR: 0.0001239, loop_time: 18m 19s\n"
     ]
    },
    {
     "name": "stderr",
     "output_type": "stream",
     "text": [
      "                                                 \r"
     ]
    },
    {
     "name": "stdout",
     "output_type": "stream",
     "text": [
      "Validation, cer: 0.0888, acc: 0.7661, wer: 0.2340, loss: 0.3703, loop_time: 3m 57s\n",
      "Model weights saved\n"
     ]
    },
    {
     "name": "stderr",
     "output_type": "stream",
     "text": [
      "                                                 \r"
     ]
    },
    {
     "name": "stdout",
     "output_type": "stream",
     "text": [
      "\n",
      "Epoch 21, Loss: 0.24085, LR: 0.0001094, loop_time: 18m 16s\n"
     ]
    },
    {
     "name": "stderr",
     "output_type": "stream",
     "text": [
      "                                                 \r"
     ]
    },
    {
     "name": "stdout",
     "output_type": "stream",
     "text": [
      "Validation, cer: 0.0910, acc: 0.7631, wer: 0.2370, loss: 0.3749, loop_time: 3m 59s\n"
     ]
    },
    {
     "name": "stderr",
     "output_type": "stream",
     "text": [
      "                                                 \r"
     ]
    },
    {
     "name": "stdout",
     "output_type": "stream",
     "text": [
      "\n",
      "Epoch 22, Loss: 0.22477, LR: 0.0000952, loop_time: 18m 24s\n"
     ]
    },
    {
     "name": "stderr",
     "output_type": "stream",
     "text": [
      "                                                 \r"
     ]
    },
    {
     "name": "stdout",
     "output_type": "stream",
     "text": [
      "Validation, cer: 0.0824, acc: 0.7813, wer: 0.2189, loss: 0.3550, loop_time: 4m 0s\n",
      "Model weights saved\n"
     ]
    },
    {
     "name": "stderr",
     "output_type": "stream",
     "text": [
      "                                                 \r"
     ]
    },
    {
     "name": "stdout",
     "output_type": "stream",
     "text": [
      "\n",
      "Epoch 23, Loss: 0.21260, LR: 0.0000816, loop_time: 18m 23s\n"
     ]
    },
    {
     "name": "stderr",
     "output_type": "stream",
     "text": [
      "                                                 \r"
     ]
    },
    {
     "name": "stdout",
     "output_type": "stream",
     "text": [
      "Validation, cer: 0.0807, acc: 0.7849, wer: 0.2152, loss: 0.3497, loop_time: 4m 3s\n",
      "Model weights saved\n"
     ]
    },
    {
     "name": "stderr",
     "output_type": "stream",
     "text": [
      "                                                 \r"
     ]
    },
    {
     "name": "stdout",
     "output_type": "stream",
     "text": [
      "\n",
      "Epoch 24, Loss: 0.19882, LR: 0.0000686, loop_time: 18m 23s\n"
     ]
    },
    {
     "name": "stderr",
     "output_type": "stream",
     "text": [
      "                                                 \r"
     ]
    },
    {
     "name": "stdout",
     "output_type": "stream",
     "text": [
      "Validation, cer: 0.0811, acc: 0.7835, wer: 0.2166, loss: 0.3572, loop_time: 4m 1s\n"
     ]
    },
    {
     "name": "stderr",
     "output_type": "stream",
     "text": [
      "                                                 \r"
     ]
    },
    {
     "name": "stdout",
     "output_type": "stream",
     "text": [
      "\n",
      "Epoch 25, Loss: 0.18494, LR: 0.0000565, loop_time: 18m 25s\n"
     ]
    },
    {
     "name": "stderr",
     "output_type": "stream",
     "text": [
      "                                                 \r"
     ]
    },
    {
     "name": "stdout",
     "output_type": "stream",
     "text": [
      "Validation, cer: 0.0788, acc: 0.7908, wer: 0.2093, loss: 0.3515, loop_time: 4m 1s\n",
      "Model weights saved\n"
     ]
    },
    {
     "name": "stderr",
     "output_type": "stream",
     "text": [
      "                                                 \r"
     ]
    },
    {
     "name": "stdout",
     "output_type": "stream",
     "text": [
      "\n",
      "Epoch 26, Loss: 0.17421, LR: 0.0000453, loop_time: 18m 22s\n"
     ]
    },
    {
     "name": "stderr",
     "output_type": "stream",
     "text": [
      "                                                 \r"
     ]
    },
    {
     "name": "stdout",
     "output_type": "stream",
     "text": [
      "Validation, cer: 0.0780, acc: 0.7907, wer: 0.2094, loss: 0.3563, loop_time: 4m 0s\n",
      "Model weights saved\n"
     ]
    },
    {
     "name": "stderr",
     "output_type": "stream",
     "text": [
      "                                                 \r"
     ]
    },
    {
     "name": "stdout",
     "output_type": "stream",
     "text": [
      "\n",
      "Epoch 27, Loss: 0.16326, LR: 0.0000351, loop_time: 18m 22s\n"
     ]
    },
    {
     "name": "stderr",
     "output_type": "stream",
     "text": [
      "                                                 \r"
     ]
    },
    {
     "name": "stdout",
     "output_type": "stream",
     "text": [
      "Validation, cer: 0.0768, acc: 0.7948, wer: 0.2053, loss: 0.3549, loop_time: 4m 1s\n",
      "Model weights saved\n"
     ]
    },
    {
     "name": "stderr",
     "output_type": "stream",
     "text": [
      "                                                 \r"
     ]
    },
    {
     "name": "stdout",
     "output_type": "stream",
     "text": [
      "\n",
      "Epoch 28, Loss: 0.15493, LR: 0.0000261, loop_time: 18m 21s\n"
     ]
    },
    {
     "name": "stderr",
     "output_type": "stream",
     "text": [
      "                                                 \r"
     ]
    },
    {
     "name": "stdout",
     "output_type": "stream",
     "text": [
      "Validation, cer: 0.0763, acc: 0.7959, wer: 0.2042, loss: 0.3541, loop_time: 4m 0s\n",
      "Model weights saved\n"
     ]
    },
    {
     "name": "stderr",
     "output_type": "stream",
     "text": [
      "                                                 \r"
     ]
    },
    {
     "name": "stdout",
     "output_type": "stream",
     "text": [
      "\n",
      "Epoch 29, Loss: 0.14775, LR: 0.0000183, loop_time: 18m 23s\n"
     ]
    },
    {
     "name": "stderr",
     "output_type": "stream",
     "text": [
      "                                                 \r"
     ]
    },
    {
     "name": "stdout",
     "output_type": "stream",
     "text": [
      "Validation, cer: 0.0766, acc: 0.7947, wer: 0.2054, loss: 0.3563, loop_time: 4m 0s\n"
     ]
    },
    {
     "name": "stderr",
     "output_type": "stream",
     "text": [
      "                                                 \r"
     ]
    },
    {
     "name": "stdout",
     "output_type": "stream",
     "text": [
      "\n",
      "Epoch 30, Loss: 0.14207, LR: 0.0000118, loop_time: 18m 20s\n"
     ]
    },
    {
     "name": "stderr",
     "output_type": "stream",
     "text": [
      "                                                 \r"
     ]
    },
    {
     "name": "stdout",
     "output_type": "stream",
     "text": [
      "Validation, cer: 0.0762, acc: 0.7965, wer: 0.2036, loss: 0.3584, loop_time: 4m 2s\n",
      "Model weights saved\n"
     ]
    },
    {
     "name": "stderr",
     "output_type": "stream",
     "text": [
      "                                                 \r"
     ]
    },
    {
     "name": "stdout",
     "output_type": "stream",
     "text": [
      "\n",
      "Epoch 31, Loss: 0.13845, LR: 0.0000067, loop_time: 18m 20s\n"
     ]
    },
    {
     "name": "stderr",
     "output_type": "stream",
     "text": [
      "                                                 \r"
     ]
    },
    {
     "name": "stdout",
     "output_type": "stream",
     "text": [
      "Validation, cer: 0.0756, acc: 0.7981, wer: 0.2020, loss: 0.3582, loop_time: 4m 2s\n",
      "Model weights saved\n"
     ]
    },
    {
     "name": "stderr",
     "output_type": "stream",
     "text": [
      "                                                 \r"
     ]
    },
    {
     "name": "stdout",
     "output_type": "stream",
     "text": [
      "\n",
      "Epoch 32, Loss: 0.13623, LR: 0.0000030, loop_time: 18m 27s\n"
     ]
    },
    {
     "name": "stderr",
     "output_type": "stream",
     "text": [
      "                                                 \r"
     ]
    },
    {
     "name": "stdout",
     "output_type": "stream",
     "text": [
      "Validation, cer: 0.0755, acc: 0.7979, wer: 0.2022, loss: 0.3601, loop_time: 4m 3s\n",
      "Model weights saved\n"
     ]
    },
    {
     "name": "stderr",
     "output_type": "stream",
     "text": [
      "                                                 \r"
     ]
    },
    {
     "name": "stdout",
     "output_type": "stream",
     "text": [
      "\n",
      "Epoch 33, Loss: 0.13488, LR: 0.0000007, loop_time: 18m 29s\n"
     ]
    },
    {
     "name": "stderr",
     "output_type": "stream",
     "text": [
      "                                                 \r"
     ]
    },
    {
     "name": "stdout",
     "output_type": "stream",
     "text": [
      "Validation, cer: 0.0757, acc: 0.7972, wer: 0.2029, loss: 0.3594, loop_time: 4m 0s\n"
     ]
    },
    {
     "name": "stderr",
     "output_type": "stream",
     "text": [
      "                                                 \r"
     ]
    },
    {
     "ename": "KeyboardInterrupt",
     "evalue": "",
     "output_type": "error",
     "traceback": [
      "\u001b[0;31m---------------------------------------------------------------------------\u001b[0m",
      "\u001b[0;31mKeyboardInterrupt\u001b[0m                         Traceback (most recent call last)",
      "\u001b[0;32m/tmp/ipykernel_256/3963554118.py\u001b[0m in \u001b[0;36m<module>\u001b[0;34m\u001b[0m\n\u001b[1;32m     29\u001b[0m \u001b[0;32mfor\u001b[0m \u001b[0mepoch\u001b[0m \u001b[0;32min\u001b[0m \u001b[0mrange\u001b[0m\u001b[0;34m(\u001b[0m\u001b[0mconfig\u001b[0m\u001b[0;34m.\u001b[0m\u001b[0mget\u001b[0m\u001b[0;34m(\u001b[0m\u001b[0;34m'num_epochs'\u001b[0m\u001b[0;34m)\u001b[0m\u001b[0;34m)\u001b[0m\u001b[0;34m:\u001b[0m\u001b[0;34m\u001b[0m\u001b[0;34m\u001b[0m\u001b[0m\n\u001b[1;32m     30\u001b[0m     train_stats = train_loop(train_loader, model, criterion, optimizer,\n\u001b[0;32m---> 31\u001b[0;31m                           epoch, scheduler)\n\u001b[0m\u001b[1;32m     32\u001b[0m \u001b[0;34m\u001b[0m\u001b[0m\n\u001b[1;32m     33\u001b[0m     \u001b[0mval_stats\u001b[0m \u001b[0;34m=\u001b[0m \u001b[0mval_loop\u001b[0m\u001b[0;34m(\u001b[0m\u001b[0mval_loader\u001b[0m\u001b[0;34m,\u001b[0m \u001b[0mmodel\u001b[0m\u001b[0;34m,\u001b[0m \u001b[0mcriterion\u001b[0m\u001b[0;34m,\u001b[0m \u001b[0mtokenizer\u001b[0m\u001b[0;34m,\u001b[0m \u001b[0mDEVICE\u001b[0m\u001b[0;34m)\u001b[0m\u001b[0;34m\u001b[0m\u001b[0;34m\u001b[0m\u001b[0m\n",
      "\u001b[0;32m/tmp/ipykernel_256/54607176.py\u001b[0m in \u001b[0;36mtrain_loop\u001b[0;34m(data_loader, model, criterion, optimizer, epoch, scheduler)\u001b[0m\n\u001b[1;32m     17\u001b[0m         \u001b[0mloss_avg\u001b[0m\u001b[0;34m.\u001b[0m\u001b[0mupdate\u001b[0m\u001b[0;34m(\u001b[0m\u001b[0mloss\u001b[0m\u001b[0;34m.\u001b[0m\u001b[0mitem\u001b[0m\u001b[0;34m(\u001b[0m\u001b[0;34m)\u001b[0m\u001b[0;34m,\u001b[0m \u001b[0mbatch_size\u001b[0m\u001b[0;34m)\u001b[0m\u001b[0;34m\u001b[0m\u001b[0;34m\u001b[0m\u001b[0m\n\u001b[1;32m     18\u001b[0m         \u001b[0mloss\u001b[0m\u001b[0;34m.\u001b[0m\u001b[0mbackward\u001b[0m\u001b[0;34m(\u001b[0m\u001b[0;34m)\u001b[0m\u001b[0;34m\u001b[0m\u001b[0;34m\u001b[0m\u001b[0m\n\u001b[0;32m---> 19\u001b[0;31m         \u001b[0mtorch\u001b[0m\u001b[0;34m.\u001b[0m\u001b[0mnn\u001b[0m\u001b[0;34m.\u001b[0m\u001b[0mutils\u001b[0m\u001b[0;34m.\u001b[0m\u001b[0mclip_grad_norm_\u001b[0m\u001b[0;34m(\u001b[0m\u001b[0mmodel\u001b[0m\u001b[0;34m.\u001b[0m\u001b[0mparameters\u001b[0m\u001b[0;34m(\u001b[0m\u001b[0;34m)\u001b[0m\u001b[0;34m,\u001b[0m \u001b[0;36m2\u001b[0m\u001b[0;34m)\u001b[0m\u001b[0;34m\u001b[0m\u001b[0;34m\u001b[0m\u001b[0m\n\u001b[0m\u001b[1;32m     20\u001b[0m         \u001b[0moptimizer\u001b[0m\u001b[0;34m.\u001b[0m\u001b[0mstep\u001b[0m\u001b[0;34m(\u001b[0m\u001b[0;34m)\u001b[0m\u001b[0;34m\u001b[0m\u001b[0;34m\u001b[0m\u001b[0m\n\u001b[1;32m     21\u001b[0m         \u001b[0mscheduler\u001b[0m\u001b[0;34m.\u001b[0m\u001b[0mstep\u001b[0m\u001b[0;34m(\u001b[0m\u001b[0;34m)\u001b[0m\u001b[0;34m\u001b[0m\u001b[0;34m\u001b[0m\u001b[0m\n",
      "\u001b[0;32m/home/user/conda/lib/python3.7/site-packages/torch/nn/utils/clip_grad.py\u001b[0m in \u001b[0;36mclip_grad_norm_\u001b[0;34m(parameters, max_norm, norm_type)\u001b[0m\n\u001b[1;32m     33\u001b[0m         \u001b[0mtotal_norm\u001b[0m \u001b[0;34m=\u001b[0m \u001b[0mtorch\u001b[0m\u001b[0;34m.\u001b[0m\u001b[0mnorm\u001b[0m\u001b[0;34m(\u001b[0m\u001b[0mtorch\u001b[0m\u001b[0;34m.\u001b[0m\u001b[0mstack\u001b[0m\u001b[0;34m(\u001b[0m\u001b[0;34m[\u001b[0m\u001b[0mtorch\u001b[0m\u001b[0;34m.\u001b[0m\u001b[0mnorm\u001b[0m\u001b[0;34m(\u001b[0m\u001b[0mp\u001b[0m\u001b[0;34m.\u001b[0m\u001b[0mgrad\u001b[0m\u001b[0;34m.\u001b[0m\u001b[0mdetach\u001b[0m\u001b[0;34m(\u001b[0m\u001b[0;34m)\u001b[0m\u001b[0;34m,\u001b[0m \u001b[0mnorm_type\u001b[0m\u001b[0;34m)\u001b[0m\u001b[0;34m.\u001b[0m\u001b[0mto\u001b[0m\u001b[0;34m(\u001b[0m\u001b[0mdevice\u001b[0m\u001b[0;34m)\u001b[0m \u001b[0;32mfor\u001b[0m \u001b[0mp\u001b[0m \u001b[0;32min\u001b[0m \u001b[0mparameters\u001b[0m\u001b[0;34m]\u001b[0m\u001b[0;34m)\u001b[0m\u001b[0;34m,\u001b[0m \u001b[0mnorm_type\u001b[0m\u001b[0;34m)\u001b[0m\u001b[0;34m\u001b[0m\u001b[0;34m\u001b[0m\u001b[0m\n\u001b[1;32m     34\u001b[0m     \u001b[0mclip_coef\u001b[0m \u001b[0;34m=\u001b[0m \u001b[0mmax_norm\u001b[0m \u001b[0;34m/\u001b[0m \u001b[0;34m(\u001b[0m\u001b[0mtotal_norm\u001b[0m \u001b[0;34m+\u001b[0m \u001b[0;36m1e-6\u001b[0m\u001b[0;34m)\u001b[0m\u001b[0;34m\u001b[0m\u001b[0;34m\u001b[0m\u001b[0m\n\u001b[0;32m---> 35\u001b[0;31m     \u001b[0;32mif\u001b[0m \u001b[0mclip_coef\u001b[0m \u001b[0;34m<\u001b[0m \u001b[0;36m1\u001b[0m\u001b[0;34m:\u001b[0m\u001b[0;34m\u001b[0m\u001b[0;34m\u001b[0m\u001b[0m\n\u001b[0m\u001b[1;32m     36\u001b[0m         \u001b[0;32mfor\u001b[0m \u001b[0mp\u001b[0m \u001b[0;32min\u001b[0m \u001b[0mparameters\u001b[0m\u001b[0;34m:\u001b[0m\u001b[0;34m\u001b[0m\u001b[0;34m\u001b[0m\u001b[0m\n\u001b[1;32m     37\u001b[0m             \u001b[0mp\u001b[0m\u001b[0;34m.\u001b[0m\u001b[0mgrad\u001b[0m\u001b[0;34m.\u001b[0m\u001b[0mdetach\u001b[0m\u001b[0;34m(\u001b[0m\u001b[0;34m)\u001b[0m\u001b[0;34m.\u001b[0m\u001b[0mmul_\u001b[0m\u001b[0;34m(\u001b[0m\u001b[0mclip_coef\u001b[0m\u001b[0;34m.\u001b[0m\u001b[0mto\u001b[0m\u001b[0;34m(\u001b[0m\u001b[0mp\u001b[0m\u001b[0;34m.\u001b[0m\u001b[0mgrad\u001b[0m\u001b[0;34m.\u001b[0m\u001b[0mdevice\u001b[0m\u001b[0;34m)\u001b[0m\u001b[0;34m)\u001b[0m\u001b[0;34m\u001b[0m\u001b[0;34m\u001b[0m\u001b[0m\n",
      "\u001b[0;31mKeyboardInterrupt\u001b[0m: "
     ]
    }
   ],
   "source": [
    "config = Config('scripts/owr_config.json')\n",
    "tokenizer = Tokenizer(config.get('alphabet'))\n",
    "os.makedirs(config.get('save_dir'), exist_ok=True)\n",
    "train_loader, val_loader = get_loaders(tokenizer, config)\n",
    "\n",
    "model = CRNN(number_class_symbols=tokenizer.get_num_chars())\n",
    "if config.get('pretrain_path'):\n",
    "    states = load_pretrain_model(config.get('pretrain_path'), model)\n",
    "    model.load_state_dict(states)\n",
    "    print('Load pretrained model')\n",
    "model.to(DEVICE)\n",
    "\n",
    "criterion = torch.nn.CTCLoss(blank=0, reduction='mean', zero_infinity=True)\n",
    "optimizer = torch.optim.AdamW(model.parameters(), lr=config.get('lr'),\n",
    "                              weight_decay=0.01)\n",
    "scheduler = torch.optim.lr_scheduler.OneCycleLR(\n",
    "    optimizer=optimizer,\n",
    "    epochs=config.get('num_epochs'),\n",
    "    steps_per_epoch=len(train_loader),\n",
    "    max_lr=config.get('max_lr'),\n",
    "    pct_start=0.1,\n",
    "    anneal_strategy='cos',\n",
    "    final_div_factor=10 ** 5\n",
    ")\n",
    "# weight_limit_control = FilesLimitControl()\n",
    "best_cer = np.inf\n",
    "\n",
    "# val_stats = val_loop(val_loader, model, criterion, tokenizer, DEVICE)\n",
    "for epoch in range(config.get('num_epochs')):\n",
    "    train_stats = train_loop(train_loader, model, criterion, optimizer,\n",
    "                          epoch, scheduler)\n",
    "    \n",
    "    val_stats = val_loop(val_loader, model, criterion, tokenizer, DEVICE)\n",
    "    \n",
    "    val_cer = val_stats['cer']\n",
    "    val_loss = val_stats['loss']\n",
    "    if val_cer < best_cer:\n",
    "        best_cer = val_cer\n",
    "        model_save_path = os.path.join(\n",
    "            config.get('save_dir'), f'{val_cer:.4f}-{val_loss}-Epoch{epoch}.ckpt')\n",
    "        torch.save(model.state_dict(), model_save_path)\n",
    "        print('Model weights saved')\n",
    "#         weight_limit_control(model_save_path)\n",
    "#     run.log({\n",
    "#         'val_cer': val_cer,\n",
    "#         'val_loss': val_loss,\n",
    "#         'train_loss': train_stats['loss'],\n",
    "#         'lr': train_stats['lr']\n",
    "#     })\n",
    "# run.finish()"
   ]
  },
  {
   "cell_type": "code",
   "execution_count": null,
   "metadata": {},
   "outputs": [],
   "source": []
  },
  {
   "cell_type": "code",
   "execution_count": null,
   "metadata": {},
   "outputs": [],
   "source": []
  }
 ],
 "metadata": {
  "accelerator": "GPU",
  "colab": {
   "collapsed_sections": [],
   "machine_shape": "hm",
   "name": "english.ipynb",
   "provenance": []
  },
  "kernelspec": {
   "display_name": "Python 3 (ipykernel)",
   "language": "python",
   "name": "python3"
  },
  "language_info": {
   "codemirror_mode": {
    "name": "ipython",
    "version": 3
   },
   "file_extension": ".py",
   "mimetype": "text/x-python",
   "name": "python",
   "nbconvert_exporter": "python",
   "pygments_lexer": "ipython3",
   "version": "3.7.12"
  }
 },
 "nbformat": 4,
 "nbformat_minor": 1
}
